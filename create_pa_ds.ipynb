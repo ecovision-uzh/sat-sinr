{
 "cells": [
  {
   "cell_type": "markdown",
   "id": "c74b1674-0b58-4b9e-a09f-dd468fc53de4",
   "metadata": {},
   "source": [
    "### Creating the test dataset from the Presence-Absence survey"
   ]
  },
  {
   "cell_type": "code",
   "execution_count": null,
   "id": "24dde7b3-4d0f-449e-a713-330630c5c8b8",
   "metadata": {},
   "outputs": [],
   "source": [
    "import pandas as pd\n",
    "import json\n",
    "from collections import defaultdict"
   ]
  },
  {
   "cell_type": "code",
   "execution_count": null,
   "id": "845d9207-ae67-4e3d-ae6e-4a817e387966",
   "metadata": {},
   "outputs": [],
   "source": [
    "tps1 = pd.read_csv('/data/jdolli/glc23_data/Presence_Absence_surveys/train_pa_spAround_1km.csv', sep=\";\", header='infer', low_memory=False)\n",
    "ept = pd.read_csv('/data/jdolli/glc23_data/Presence_Absence_surveys/enviroTab_pa_train.csv', sep=\";\", header='infer', low_memory=False)"
   ]
  },
  {
   "cell_type": "code",
   "execution_count": null,
   "id": "f0efcc57-78b1-443d-9bb4-d1457cc46c09",
   "metadata": {},
   "outputs": [],
   "source": [
    "# Saving presence absence into tensor\n",
    "patch_year_to_species = defaultdict(list)\n",
    "for entid in tps1.iterrows():\n",
    "    _, ent = entid\n",
    "    patch_year_to_species[str(ent[\"patchID\"]) + \"/\" + str(ent[\"dayOfYear\"])] += [int(ent[\"speciesId\"])]\n",
    "loc_to_spec = dict()\n",
    "for paye in patch_year_to_species.keys():\n",
    "    pa = paye.split(\"/\")[0]\n",
    "    ye = paye.split(\"/\")[1]\n",
    "    idx = ept.query(f\"patchID == \" + str(pa) + \" and dayOfYear == \" + str(ye))\n",
    "    assert len(idx) == 1\n",
    "    loc = idx[[\"lon\", \"lat\", \"dayOfYear\"]].to_numpy()\n",
    "    loc_to_spec[str(loc[0, 0]) + \"/\" + str(loc[0, 1]) + \"/\" + str(loc[0, 2]) + \"/\" + str(idx[[\"patchID\"]].to_numpy()[0, 0])] = patch_year_to_species[paye]\n",
    "import json\n",
    "with open('/data/jdolli/glc23_data/Presence_Absence_surveys/loc_to_spec.csv', \"w\") as f:\n",
    "    json.dump(dict(loc_to_spec), f)  "
   ]
  },
  {
   "cell_type": "code",
   "execution_count": null,
   "id": "8639200f-b942-4f2b-bdd4-fdfd38daf0f5",
   "metadata": {},
   "outputs": [],
   "source": [
    "tps1 = pd.read_csv('/data/jdolli/glc23_data/For_submission/test_spAround_1km.csv', sep=\";\", header='infer', low_memory=False)\n",
    "ept = pd.read_csv('/data/jdolli/glc23_data/For_submission/enviroTab_pa_test.csv', sep=\";\", header='infer', low_memory=False)"
   ]
  },
  {
   "cell_type": "code",
   "execution_count": null,
   "id": "ba72ad68-e56b-4f46-9a48-48d772edce9e",
   "metadata": {},
   "outputs": [],
   "source": [
    "# Saving presence absence into tensor\n",
    "patch_year_to_species = defaultdict(list)\n",
    "for entid in tps1.iterrows():\n",
    "    _, ent = entid\n",
    "    patch_year_to_species[str(ent[\"patchID\"]) + \"/\" + str(ent[\"dayOfYear\"])] += [int(ent[\"speciesId\"])]\n",
    "loc_to_spec = dict()\n",
    "for paye in patch_year_to_species.keys():\n",
    "    pa = paye.split(\"/\")[0]\n",
    "    ye = paye.split(\"/\")[1]\n",
    "    idx = ept.query(f\"patchID == \" + str(pa) + \" and dayOfYear == \" + str(ye))\n",
    "    assert len(idx) == 1\n",
    "    loc = idx[[\"lon\", \"lat\", \"dayOfYear\"]].to_numpy()\n",
    "    loc_to_spec[str(loc[0, 0]) + \"/\" + str(loc[0, 1]) + \"/\" + str(loc[0, 2]) + \"/\" + str(idx[[\"patchID\"]].to_numpy()[0, 0])] = patch_year_to_species[paye]\n",
    "import json\n",
    "with open('/data/jdolli/glc23_data/For_submission/loc_to_spec.csv', \"w\") as f:\n",
    "    json.dump(dict(loc_to_spec), f)  "
   ]
  },
  {
   "cell_type": "code",
   "execution_count": null,
   "id": "317e4159-79d9-41d7-b22a-a8ceea6e8f41",
   "metadata": {},
   "outputs": [],
   "source": []
  }
 ],
 "metadata": {
  "kernelspec": {
   "display_name": "glc23",
   "language": "python",
   "name": "glc23"
  },
  "language_info": {
   "codemirror_mode": {
    "name": "ipython",
    "version": 3
   },
   "file_extension": ".py",
   "mimetype": "text/x-python",
   "name": "python",
   "nbconvert_exporter": "python",
   "pygments_lexer": "ipython3",
   "version": "3.9.16"
  }
 },
 "nbformat": 4,
 "nbformat_minor": 5
}
