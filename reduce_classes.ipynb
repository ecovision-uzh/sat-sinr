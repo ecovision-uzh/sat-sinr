{
 "cells": [
  {
   "cell_type": "code",
   "execution_count": 41,
   "id": "a85818d2-8a30-460c-9cf4-f4054d530fab",
   "metadata": {},
   "outputs": [],
   "source": [
    "import pandas as pd\n",
    "from collections import Counter\n",
    "from tqdm import tqdm"
   ]
  },
  {
   "cell_type": "code",
   "execution_count": 42,
   "id": "217ab1ac-8c3d-48b8-bd6a-222aaa9c5c43",
   "metadata": {},
   "outputs": [],
   "source": [
    "ds = pd.read_csv('/data/jdolli/Presences_only_train.csv', sep=\";\", header='infer', low_memory=False)"
   ]
  },
  {
   "cell_type": "code",
   "execution_count": 43,
   "id": "94b664ac-bf13-484e-8c5b-9e962e9ada03",
   "metadata": {},
   "outputs": [],
   "source": [
    "ids = ds[[\"speciesId\"]].to_numpy().tolist()\n",
    "ids = [id[0] for id in ids]\n",
    "c = Counter(ids)"
   ]
  },
  {
   "cell_type": "code",
   "execution_count": 44,
   "id": "123d431d-9ad7-45ff-9054-a4f19215bacc",
   "metadata": {},
   "outputs": [
    {
     "name": "stderr",
     "output_type": "stream",
     "text": [
      "100%|██████████| 10038/10038 [43:54<00:00,  3.81it/s] \n"
     ]
    }
   ],
   "source": [
    "for species_id in tqdm(c.keys()):\n",
    "    if c[species_id] > 1000:\n",
    "        ds = ds.drop(ds.loc[ds[\"speciesId\"] == species_id].sample(c[species_id]-1000).index)\n",
    "    elif c[species_id] < 10:\n",
    "        ds = ds.drop(ds.loc[ds[\"speciesId\"] == species_id].index)"
   ]
  },
  {
   "cell_type": "code",
   "execution_count": 45,
   "id": "b5357b96-4fd0-403e-bc5f-9e2989340170",
   "metadata": {},
   "outputs": [],
   "source": [
    "ids = ds[[\"speciesId\"]].to_numpy().tolist()\n",
    "ids = [id[0] for id in ids]\n",
    "c = Counter(ids)"
   ]
  },
  {
   "cell_type": "code",
   "execution_count": 47,
   "id": "e2a1e359-af6c-4895-a32a-9c0cbb3f1a96",
   "metadata": {},
   "outputs": [],
   "source": [
    "ds.to_csv('/data/jdolli/Pot_10_to_1000.csv', sep=\";\")"
   ]
  },
  {
   "cell_type": "code",
   "execution_count": 48,
   "id": "bbad250d-6403-4eb8-8acf-29f25bd34de1",
   "metadata": {},
   "outputs": [],
   "source": [
    "test = pd.read_csv('/data/jdolli/Pot_10_to_1000.csv', sep=\";\", header='infer', low_memory=False)"
   ]
  },
  {
   "cell_type": "code",
   "execution_count": 50,
   "id": "0666ef17-5a06-4f52-9265-e7e7ab9bc5ed",
   "metadata": {},
   "outputs": [
    {
     "data": {
      "text/plain": [
       "5697"
      ]
     },
     "execution_count": 50,
     "metadata": {},
     "output_type": "execute_result"
    }
   ],
   "source": [
    "ids = test[[\"speciesId\"]].to_numpy().tolist()\n",
    "ids = [id[0] for id in ids]\n",
    "c = Counter(ids)\n",
    "len(c)"
   ]
  },
  {
   "cell_type": "code",
   "execution_count": null,
   "id": "43d502b7-9d2e-46d1-83bc-939a14c2df29",
   "metadata": {},
   "outputs": [],
   "source": []
  }
 ],
 "metadata": {
  "kernelspec": {
   "display_name": "glc23",
   "language": "python",
   "name": "glc23"
  },
  "language_info": {
   "codemirror_mode": {
    "name": "ipython",
    "version": 3
   },
   "file_extension": ".py",
   "mimetype": "text/x-python",
   "name": "python",
   "nbconvert_exporter": "python",
   "pygments_lexer": "ipython3",
   "version": "3.9.16"
  }
 },
 "nbformat": 4,
 "nbformat_minor": 5
}
