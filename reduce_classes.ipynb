{
 "cells": [
  {
   "cell_type": "markdown",
   "id": "eaa69e2d-574e-4f5a-9d69-44414ee91a1b",
   "metadata": {},
   "source": [
    "### Reducing the number of classes in the dataset"
   ]
  },
  {
   "cell_type": "code",
   "execution_count": null,
   "id": "a85818d2-8a30-460c-9cf4-f4054d530fab",
   "metadata": {},
   "outputs": [],
   "source": [
    "import pandas as pd\n",
    "from collections import Counter\n",
    "from tqdm import tqdm"
   ]
  },
  {
   "cell_type": "code",
   "execution_count": null,
   "id": "217ab1ac-8c3d-48b8-bd6a-222aaa9c5c43",
   "metadata": {},
   "outputs": [],
   "source": [
    "ds = pd.read_csv('/data/jdolli/glc23_data/Presences_only_train.csv', sep=\";\", header='infer', low_memory=False)"
   ]
  },
  {
   "cell_type": "code",
   "execution_count": null,
   "id": "94b664ac-bf13-484e-8c5b-9e962e9ada03",
   "metadata": {},
   "outputs": [],
   "source": [
    "ids = ds[[\"speciesId\"]].to_numpy().tolist()\n",
    "ids = [id[0] for id in ids]\n",
    "c = Counter(ids)"
   ]
  },
  {
   "cell_type": "code",
   "execution_count": null,
   "id": "123d431d-9ad7-45ff-9054-a4f19215bacc",
   "metadata": {},
   "outputs": [],
   "source": [
    "for species_id in tqdm(c.keys()):\n",
    "    if c[species_id] > 1000:\n",
    "        ds = ds.drop(ds.loc[ds[\"speciesId\"] == species_id].sample(c[species_id]-1000).index)\n",
    "    elif c[species_id] < 10:\n",
    "        ds = ds.drop(ds.loc[ds[\"speciesId\"] == species_id].index)"
   ]
  },
  {
   "cell_type": "code",
   "execution_count": null,
   "id": "b5357b96-4fd0-403e-bc5f-9e2989340170",
   "metadata": {},
   "outputs": [],
   "source": [
    "ids = ds[[\"speciesId\"]].to_numpy().tolist()\n",
    "ids = [id[0] for id in ids]\n",
    "c = Counter(ids)"
   ]
  },
  {
   "cell_type": "code",
   "execution_count": null,
   "id": "e2a1e359-af6c-4895-a32a-9c0cbb3f1a96",
   "metadata": {},
   "outputs": [],
   "source": [
    "ds.to_csv('/data/jdolli/glc23_data/Pot_10_to_1000.csv', sep=\";\")"
   ]
  },
  {
   "cell_type": "code",
   "execution_count": null,
   "id": "bbad250d-6403-4eb8-8acf-29f25bd34de1",
   "metadata": {},
   "outputs": [],
   "source": [
    "test = pd.read_csv('/data/jdolli/glc23_data/Pot_10_to_1000.csv', sep=\";\", header='infer', low_memory=False)"
   ]
  },
  {
   "cell_type": "code",
   "execution_count": null,
   "id": "0666ef17-5a06-4f52-9265-e7e7ab9bc5ed",
   "metadata": {},
   "outputs": [],
   "source": [
    "ids = test[[\"speciesId\"]].to_numpy().tolist()\n",
    "ids = [id[0] for id in ids]\n",
    "c = Counter(ids)\n",
    "len(c)"
   ]
  },
  {
   "cell_type": "code",
   "execution_count": null,
   "id": "43d502b7-9d2e-46d1-83bc-939a14c2df29",
   "metadata": {},
   "outputs": [],
   "source": [
    "#reduce number of samples"
   ]
  },
  {
   "cell_type": "code",
   "execution_count": null,
   "id": "a52d345e-19e3-46fc-85d8-5689407d4c81",
   "metadata": {},
   "outputs": [],
   "source": [
    "ds = pd.read_csv('/data/jdolli/glc23_data/Pot_10_to_1000.csv', sep=\";\", header='infer', low_memory=False)"
   ]
  },
  {
   "cell_type": "code",
   "execution_count": null,
   "id": "26e62427-5eef-43bc-9141-7b14dcbef136",
   "metadata": {},
   "outputs": [],
   "source": [
    "red = 32\n",
    "new_len = len(ds)//red\n",
    "red_ds = ds.sample(new_len)\n",
    "ids = red_ds[[\"speciesId\"]].to_numpy().tolist()\n",
    "ids = [id[0] for id in ids]\n",
    "c = Counter(ids)\n",
    "print(len(red_ds), len(c))\n",
    "red_ds.to_csv('/data/jdolli/glc23_data/Pot_10_to_1000_red' + str(red) + '.csv', sep=\";\")"
   ]
  },
  {
   "cell_type": "code",
   "execution_count": null,
   "id": "9e1c55a6-be24-4bdc-b065-e2f5cfbd2e0a",
   "metadata": {},
   "outputs": [],
   "source": [
    "FRANCE_SE = 42.325170, 8.238722\n",
    "FRANCE_NW = 51.235825, -4.807615\n",
    "france = ds[ds[\"lon\"]>-4.807615]\n",
    "france = france[france[\"lon\"]<8.238722]\n",
    "france = france[france[\"lat\"]>42.325170]\n",
    "france = france[france[\"lat\"]<51.235825]\n",
    "len(france)\n",
    "ds = ds.drop(france.index)\n",
    "len(ds)\n",
    "ds.to_csv('/data/jdolli/glc23_data/Pot_10_to_1000_nofrance.csv', sep=\";\")"
   ]
  },
  {
   "cell_type": "code",
   "execution_count": null,
   "id": "52f816c7-27ba-4cf4-b240-b362072acd98",
   "metadata": {},
   "outputs": [],
   "source": []
  },
  {
   "cell_type": "code",
   "execution_count": null,
   "id": "5c855b9d-ae58-45d2-a638-67cde45cc1fc",
   "metadata": {},
   "outputs": [],
   "source": [
    "# Counting the number of PA surveys in France\n",
    "import json\n",
    "with open('/data/jdolli/glc23_data/Presence_Absence_surveys/loc_to_spec.csv', \"r\") as f:\n",
    "    val_data = json.load(f)"
   ]
  },
  {
   "cell_type": "code",
   "execution_count": null,
   "id": "1ef896f5-15b3-4c5f-ab7a-c03b3293f83d",
   "metadata": {},
   "outputs": [],
   "source": [
    "def _get_pred_from_key(key):\n",
    "        splt_key = key.split(\"/\")\n",
    "        lon = float(splt_key[0])\n",
    "        lat = float(splt_key[1])\n",
    "        return lon, lat"
   ]
  },
  {
   "cell_type": "code",
   "execution_count": null,
   "id": "982658f4-784a-471b-932c-7adf6c3836a1",
   "metadata": {},
   "outputs": [],
   "source": [
    "FRANCE_SE = 42.325170, 8.238722\n",
    "FRANCE_NW = 51.235825, -4.807615\n",
    "counter = 0\n",
    "for key in val_data.keys():\n",
    "    lon, lat = _get_pred_from_key(key)\n",
    "    if lon > 8.238722 or lon < -4.807615 or lat > 51.235825 or lat < 42.325170:\n",
    "        counter += 1\n",
    "print(counter, len(val_data.keys()))\n",
    "print(1176/4299)"
   ]
  },
  {
   "cell_type": "code",
   "execution_count": null,
   "id": "906efff0-0b43-4850-8e1e-533fe698114d",
   "metadata": {},
   "outputs": [],
   "source": []
  }
 ],
 "metadata": {
  "kernelspec": {
   "display_name": "glc23",
   "language": "python",
   "name": "glc23"
  },
  "language_info": {
   "codemirror_mode": {
    "name": "ipython",
    "version": 3
   },
   "file_extension": ".py",
   "mimetype": "text/x-python",
   "name": "python",
   "nbconvert_exporter": "python",
   "pygments_lexer": "ipython3",
   "version": "3.9.16"
  }
 },
 "nbformat": 4,
 "nbformat_minor": 5
}
