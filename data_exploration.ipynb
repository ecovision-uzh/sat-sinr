{
 "cells": [
  {
   "cell_type": "code",
   "execution_count": 1,
   "id": "57fa4363-3e4c-4879-b5c1-698f2edc2fc6",
   "metadata": {
    "execution": {
     "iopub.execute_input": "2024-02-27T11:15:36.014226Z",
     "iopub.status.busy": "2024-02-27T11:15:36.013878Z",
     "iopub.status.idle": "2024-02-27T11:15:38.765726Z",
     "shell.execute_reply": "2024-02-27T11:15:38.765117Z",
     "shell.execute_reply.started": "2024-02-27T11:15:36.014206Z"
    }
   },
   "outputs": [
    {
     "name": "stderr",
     "output_type": "stream",
     "text": [
      "/sctmp/jribas/ipykernel_3866647/2953294587.py:1: DeprecationWarning: \n",
      "Pyarrow will become a required dependency of pandas in the next major release of pandas (pandas 3.0),\n",
      "(to allow more performant data types, such as the Arrow string type, and better interoperability with other libraries)\n",
      "but was not found to be installed on your system.\n",
      "If this would cause problems for you,\n",
      "please provide us feedback at https://github.com/pandas-dev/pandas/issues/54466\n",
      "        \n",
      "  import pandas as pd\n"
     ]
    }
   ],
   "source": [
    "import pandas as pd\n",
    "import seaborn as sns\n",
    "from collections import Counter"
   ]
  },
  {
   "cell_type": "code",
   "execution_count": 2,
   "id": "c7336957-ed4b-473e-afe6-8697ae6125d7",
   "metadata": {
    "execution": {
     "iopub.execute_input": "2024-02-27T11:15:52.800326Z",
     "iopub.status.busy": "2024-02-27T11:15:52.799967Z",
     "iopub.status.idle": "2024-02-27T11:15:52.804553Z",
     "shell.execute_reply": "2024-02-27T11:15:52.804034Z",
     "shell.execute_reply.started": "2024-02-27T11:15:52.800305Z"
    }
   },
   "outputs": [],
   "source": [
    "po_dataset_path = \"/shares/wegner.ics.uzh/glc23_data/Presences_only_train.csv\"\n",
    "reduced_po_dataset_path = \"/shares/wegner.ics.uzh/glc23_data/Pot_10_to_1000.csv\""
   ]
  },
  {
   "cell_type": "code",
   "execution_count": 3,
   "id": "21317c52-e583-4c51-b0c4-c45bbc5c7a75",
   "metadata": {
    "execution": {
     "iopub.execute_input": "2024-02-27T11:16:08.234076Z",
     "iopub.status.busy": "2024-02-27T11:16:08.233464Z",
     "iopub.status.idle": "2024-02-27T11:16:22.916961Z",
     "shell.execute_reply": "2024-02-27T11:16:22.915995Z",
     "shell.execute_reply.started": "2024-02-27T11:16:08.234055Z"
    }
   },
   "outputs": [],
   "source": [
    "full_data = pd.read_csv(po_dataset_path, sep=\";\")\n",
    "reduced_data = pd.read_csv(reduced_po_dataset_path, sep=\";\")"
   ]
  },
  {
   "cell_type": "code",
   "execution_count": 4,
   "id": "4473b15e-c244-4fef-acd6-601949b0a3e6",
   "metadata": {
    "execution": {
     "iopub.execute_input": "2024-02-27T11:16:37.567349Z",
     "iopub.status.busy": "2024-02-27T11:16:37.567007Z",
     "iopub.status.idle": "2024-02-27T11:16:37.874788Z",
     "shell.execute_reply": "2024-02-27T11:16:37.874220Z",
     "shell.execute_reply.started": "2024-02-27T11:16:37.567330Z"
    }
   },
   "outputs": [],
   "source": [
    "data = full_data.copy()"
   ]
  },
  {
   "cell_type": "code",
   "execution_count": 5,
   "id": "c00c67b8-a92e-4d79-b727-7168de5c708d",
   "metadata": {
    "execution": {
     "iopub.execute_input": "2024-02-27T11:16:37.899663Z",
     "iopub.status.busy": "2024-02-27T11:16:37.899393Z",
     "iopub.status.idle": "2024-02-27T11:16:38.102443Z",
     "shell.execute_reply": "2024-02-27T11:16:38.101730Z",
     "shell.execute_reply.started": "2024-02-27T11:16:37.899646Z"
    }
   },
   "outputs": [
    {
     "data": {
      "text/html": [
       "<div>\n",
       "<style scoped>\n",
       "    .dataframe tbody tr th:only-of-type {\n",
       "        vertical-align: middle;\n",
       "    }\n",
       "\n",
       "    .dataframe tbody tr th {\n",
       "        vertical-align: top;\n",
       "    }\n",
       "\n",
       "    .dataframe thead th {\n",
       "        text-align: right;\n",
       "    }\n",
       "</style>\n",
       "<table border=\"1\" class=\"dataframe\">\n",
       "  <thead>\n",
       "    <tr style=\"text-align: right;\">\n",
       "      <th></th>\n",
       "      <th>glcID</th>\n",
       "      <th>gbifID</th>\n",
       "      <th>observer</th>\n",
       "      <th>datasetName</th>\n",
       "      <th>date</th>\n",
       "      <th>dayOfYear</th>\n",
       "      <th>year</th>\n",
       "      <th>lon</th>\n",
       "      <th>lat</th>\n",
       "      <th>x_EPSG3035</th>\n",
       "      <th>y_EPSG3035</th>\n",
       "      <th>geoUncertaintyInM</th>\n",
       "      <th>speciesId</th>\n",
       "      <th>patchID</th>\n",
       "      <th>timeSerieID</th>\n",
       "    </tr>\n",
       "  </thead>\n",
       "  <tbody>\n",
       "    <tr>\n",
       "      <th>4526303</th>\n",
       "      <td>878761</td>\n",
       "      <td>3.958570e+09</td>\n",
       "      <td>NaN</td>\n",
       "      <td>Pl@ntNet automatic</td>\n",
       "      <td>2020-05-09</td>\n",
       "      <td>130</td>\n",
       "      <td>2020</td>\n",
       "      <td>15.661510</td>\n",
       "      <td>50.14816</td>\n",
       "      <td>4725233.0</td>\n",
       "      <td>3019599.0</td>\n",
       "      <td>19.0</td>\n",
       "      <td>793</td>\n",
       "      <td>6679057</td>\n",
       "      <td>3658023</td>\n",
       "    </tr>\n",
       "    <tr>\n",
       "      <th>3387583</th>\n",
       "      <td>3240005</td>\n",
       "      <td>3.091445e+09</td>\n",
       "      <td>Turid Nakling Kristiansen;Per Marstad</td>\n",
       "      <td>NOR Species Observation</td>\n",
       "      <td>2021-04-22</td>\n",
       "      <td>112</td>\n",
       "      <td>2021</td>\n",
       "      <td>10.421980</td>\n",
       "      <td>59.08321</td>\n",
       "      <td>4345244.0</td>\n",
       "      <td>3998111.0</td>\n",
       "      <td>8.0</td>\n",
       "      <td>4312</td>\n",
       "      <td>5831816</td>\n",
       "      <td>2808383</td>\n",
       "    </tr>\n",
       "    <tr>\n",
       "      <th>4149411</th>\n",
       "      <td>1441403</td>\n",
       "      <td>3.069984e+09</td>\n",
       "      <td>Kamilla Svingen</td>\n",
       "      <td>NOR Species Observation</td>\n",
       "      <td>2020-08-31</td>\n",
       "      <td>244</td>\n",
       "      <td>2020</td>\n",
       "      <td>12.741560</td>\n",
       "      <td>66.36715</td>\n",
       "      <td>4444654.0</td>\n",
       "      <td>4808467.0</td>\n",
       "      <td>50.0</td>\n",
       "      <td>1486</td>\n",
       "      <td>6362166</td>\n",
       "      <td>3340040</td>\n",
       "    </tr>\n",
       "    <tr>\n",
       "      <th>1934338</th>\n",
       "      <td>4036004</td>\n",
       "      <td>2.826103e+09</td>\n",
       "      <td>Endre Nygaard</td>\n",
       "      <td>NOR Species Observation</td>\n",
       "      <td>2019-07-26</td>\n",
       "      <td>207</td>\n",
       "      <td>2019</td>\n",
       "      <td>6.366702</td>\n",
       "      <td>59.41819</td>\n",
       "      <td>4114356.0</td>\n",
       "      <td>4040559.0</td>\n",
       "      <td>10.0</td>\n",
       "      <td>2225</td>\n",
       "      <td>4863897</td>\n",
       "      <td>1840267</td>\n",
       "    </tr>\n",
       "    <tr>\n",
       "      <th>4195344</th>\n",
       "      <td>2524197</td>\n",
       "      <td>2.857475e+09</td>\n",
       "      <td>Via Invasiva Arter</td>\n",
       "      <td>ArtPortalen</td>\n",
       "      <td>2020-07-14</td>\n",
       "      <td>196</td>\n",
       "      <td>2020</td>\n",
       "      <td>13.090510</td>\n",
       "      <td>55.81939</td>\n",
       "      <td>4514776.0</td>\n",
       "      <td>3639179.0</td>\n",
       "      <td>10.0</td>\n",
       "      <td>5374</td>\n",
       "      <td>6406094</td>\n",
       "      <td>3384046</td>\n",
       "    </tr>\n",
       "  </tbody>\n",
       "</table>\n",
       "</div>"
      ],
      "text/plain": [
       "           glcID        gbifID                               observer  \\\n",
       "4526303   878761  3.958570e+09                                    NaN   \n",
       "3387583  3240005  3.091445e+09  Turid Nakling Kristiansen;Per Marstad   \n",
       "4149411  1441403  3.069984e+09                        Kamilla Svingen   \n",
       "1934338  4036004  2.826103e+09                          Endre Nygaard   \n",
       "4195344  2524197  2.857475e+09                     Via Invasiva Arter   \n",
       "\n",
       "                     datasetName        date  dayOfYear  year        lon  \\\n",
       "4526303       Pl@ntNet automatic  2020-05-09        130  2020  15.661510   \n",
       "3387583  NOR Species Observation  2021-04-22        112  2021  10.421980   \n",
       "4149411  NOR Species Observation  2020-08-31        244  2020  12.741560   \n",
       "1934338  NOR Species Observation  2019-07-26        207  2019   6.366702   \n",
       "4195344              ArtPortalen  2020-07-14        196  2020  13.090510   \n",
       "\n",
       "              lat  x_EPSG3035  y_EPSG3035  geoUncertaintyInM  speciesId  \\\n",
       "4526303  50.14816   4725233.0   3019599.0               19.0        793   \n",
       "3387583  59.08321   4345244.0   3998111.0                8.0       4312   \n",
       "4149411  66.36715   4444654.0   4808467.0               50.0       1486   \n",
       "1934338  59.41819   4114356.0   4040559.0               10.0       2225   \n",
       "4195344  55.81939   4514776.0   3639179.0               10.0       5374   \n",
       "\n",
       "         patchID  timeSerieID  \n",
       "4526303  6679057      3658023  \n",
       "3387583  5831816      2808383  \n",
       "4149411  6362166      3340040  \n",
       "1934338  4863897      1840267  \n",
       "4195344  6406094      3384046  "
      ]
     },
     "execution_count": 5,
     "metadata": {},
     "output_type": "execute_result"
    }
   ],
   "source": [
    "data.sample(5)"
   ]
  },
  {
   "cell_type": "code",
   "execution_count": 6,
   "id": "301082e0-f343-4cd0-8acf-4c086c1a0061",
   "metadata": {
    "execution": {
     "iopub.execute_input": "2024-02-27T11:17:04.033775Z",
     "iopub.status.busy": "2024-02-27T11:17:04.033437Z",
     "iopub.status.idle": "2024-02-27T11:17:05.559823Z",
     "shell.execute_reply": "2024-02-27T11:17:05.559259Z",
     "shell.execute_reply.started": "2024-02-27T11:17:04.033755Z"
    }
   },
   "outputs": [],
   "source": [
    "ids = data[[\"speciesId\"]].to_numpy().tolist()\n",
    "ids = [id[0] for id in ids]\n",
    "c = Counter(ids)"
   ]
  },
  {
   "cell_type": "code",
   "execution_count": 50,
   "id": "276bded3-bb4b-4494-901a-1db7c3859008",
   "metadata": {
    "execution": {
     "iopub.execute_input": "2024-02-09T12:00:53.116241Z",
     "iopub.status.busy": "2024-02-09T12:00:53.115333Z",
     "iopub.status.idle": "2024-02-09T12:00:53.170208Z",
     "shell.execute_reply": "2024-02-09T12:00:53.169603Z",
     "shell.execute_reply.started": "2024-02-09T12:00:53.116217Z"
    }
   },
   "outputs": [
    {
     "data": {
      "text/plain": [
       "4548.0"
      ]
     },
     "execution_count": 50,
     "metadata": {},
     "output_type": "execute_result"
    }
   ],
   "source": [
    "data[\"speciesId\"].value_counts().max() / data[\"speciesId\"].value_counts().min()"
   ]
  },
  {
   "cell_type": "code",
   "execution_count": 9,
   "id": "6722e4d3-3936-41e2-af83-a24718925b6c",
   "metadata": {
    "execution": {
     "iopub.execute_input": "2024-02-19T08:55:36.215029Z",
     "iopub.status.busy": "2024-02-19T08:55:36.214586Z",
     "iopub.status.idle": "2024-02-19T08:55:36.558640Z",
     "shell.execute_reply": "2024-02-19T08:55:36.557836Z",
     "shell.execute_reply.started": "2024-02-19T08:55:36.214998Z"
    }
   },
   "outputs": [
    {
     "data": {
      "text/plain": [
       "<Axes: >"
      ]
     },
     "execution_count": 9,
     "metadata": {},
     "output_type": "execute_result"
    },
    {
     "data": {
      "image/png": "[encoded data removed]",
      "text/plain": [
       "<Figure size 640x480 with 1 Axes>"
      ]
     },
     "metadata": {},
     "output_type": "display_data"
    }
   ],
   "source": [
    "data[\"speciesId\"].value_counts().hist(bins=20)"
   ]
  },
  {
   "cell_type": "markdown",
   "id": "1ac4e56d-917b-4ae6-a620-2092f4619f18",
   "metadata": {},
   "source": [
    "# Oversample the lower class"
   ]
  },
  {
   "cell_type": "code",
   "execution_count": null,
   "id": "1bdee34e-c38b-4881-ad5a-87cbdae47d95",
   "metadata": {},
   "outputs": [],
   "source": []
  }
 ],
 "metadata": {
  "kernelspec": {
   "display_name": "Python 3 (ipykernel)",
   "language": "python",
   "name": "python3"
  },
  "language_info": {
   "codemirror_mode": {
    "name": "ipython",
    "version": 3
   },
   "file_extension": ".py",
   "mimetype": "text/x-python",
   "name": "python",
   "nbconvert_exporter": "python",
   "pygments_lexer": "ipython3",
   "version": "3.12.0"
  }
 },
 "nbformat": 4,
 "nbformat_minor": 5
}
