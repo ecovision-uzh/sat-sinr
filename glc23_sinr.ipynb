{
 "cells": [
  {
   "cell_type": "markdown",
   "id": "0a171159-c57a-4e41-be9a-cd0eaea26e8a",
   "metadata": {},
   "source": [
    "### Jupyter notebook to run main using a parameter dummy"
   ]
  },
  {
   "cell_type": "code",
   "execution_count": null,
   "id": "c87aee05-7607-4419-be01-9fe6f984fe29",
   "metadata": {},
   "outputs": [],
   "source": [
    "import warnings\n",
    "warnings.filterwarnings(\"ignore\")"
   ]
  },
  {
   "cell_type": "code",
   "execution_count": null,
   "id": "8544d390-7e85-4f9c-be6c-d560c61518a5",
   "metadata": {},
   "outputs": [],
   "source": [
    "from main import main\n",
    "from utils import DefaultParams"
   ]
  },
  {
   "cell_type": "code",
   "execution_count": null,
   "id": "97e451cf-d3a9-4894-acd5-e8949ffbc1db",
   "metadata": {},
   "outputs": [],
   "source": [
    "params = DefaultParams(sinr=False)\n",
    "print(params)"
   ]
  },
  {
   "cell_type": "code",
   "execution_count": null,
   "id": "83d168bc-202a-4bca-b3ce-0f5189dc140a",
   "metadata": {},
   "outputs": [],
   "source": [
    "main(params)"
   ]
  },
  {
   "cell_type": "code",
   "execution_count": null,
   "id": "8ad950b8-4632-4445-a184-3814fa0af5e4",
   "metadata": {},
   "outputs": [],
   "source": []
  },
  {
   "cell_type": "code",
   "execution_count": null,
   "id": "bc3a1c78-1a23-4801-8694-0a8bbb12ea10",
   "metadata": {},
   "outputs": [],
   "source": []
  },
  {
   "cell_type": "code",
   "execution_count": null,
   "id": "730ddddd-1f3f-4b09-a999-c0a202612dc7",
   "metadata": {},
   "outputs": [],
   "source": []
  }
 ],
 "metadata": {
  "kernelspec": {
   "display_name": "glc23",
   "language": "python",
   "name": "glc23"
  },
  "language_info": {
   "codemirror_mode": {
    "name": "ipython",
    "version": 3
   },
   "file_extension": ".py",
   "mimetype": "text/x-python",
   "name": "python",
   "nbconvert_exporter": "python",
   "pygments_lexer": "ipython3",
   "version": "3.9.16"
  }
 },
 "nbformat": 4,
 "nbformat_minor": 5
}
