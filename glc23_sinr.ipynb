{
 "cells": [
  {
   "cell_type": "markdown",
   "id": "0a171159-c57a-4e41-be9a-cd0eaea26e8a",
   "metadata": {},
   "source": [
    "### Jupyter notebook to run main using a parameter dummy"
   ]
  },
  {
   "cell_type": "code",
   "execution_count": 1,
   "id": "c87aee05-7607-4419-be01-9fe6f984fe29",
   "metadata": {},
   "outputs": [],
   "source": [
    "import warnings\n",
    "warnings.filterwarnings(\"ignore\")"
   ]
  },
  {
   "cell_type": "code",
   "execution_count": 2,
   "id": "8544d390-7e85-4f9c-be6c-d560c61518a5",
   "metadata": {},
   "outputs": [],
   "source": [
    "from main import main\n",
    "from utils import DefaultParams"
   ]
  },
  {
   "cell_type": "code",
   "execution_count": 3,
   "id": "97e451cf-d3a9-4894-acd5-e8949ffbc1db",
   "metadata": {},
   "outputs": [
    {
     "data": {
      "text/plain": [
       "'params.model = \"log_reg\"\\nparams.local.sent_data_path = \"/data/jdolli/glc23_data/SatelliteImages/\"\\nparams.local.bioclim_lr_path = \"/data/jdolli/glc23_data/sinr_data/data/env/bioclim_elevation_scaled_europe.npy\"\\nparams.local.dataset_file_path = \"/data/jdolli/glc23_data/Pot_10_to_1000.csv\"\\nparams.local.cp_dir_path = \"/scratch/jdolli/sent-sinr/checkpoints\"\\nparams.local.logs_dir_path = \"/scratch/jdolli/sent-sinr/wandb_logs\"\\nparams.local.val_data_path = \"/data/jdolli/glc23_data/Presence_Absence_surveys/loc_to_spec.csv\"\\n'"
      ]
     },
     "execution_count": 3,
     "metadata": {},
     "output_type": "execute_result"
    }
   ],
   "source": [
    "params = DefaultParams(sinr=False)\n",
    "#params.dataset.predictors = \"loc\"\n",
    "params.local.sent_data_path = \"/data/jdolli/glc23_data/SatelliteImages/\"\n",
    "\n",
    "\n",
    "\"\"\"params.model = \"log_reg\"\n",
    "params.local.sent_data_path = \"/data/jdolli/glc23_data/SatelliteImages/\"\n",
    "params.local.bioclim_lr_path = \"/data/jdolli/glc23_data/sinr_data/data/env/bioclim_elevation_scaled_europe.npy\"\n",
    "params.local.dataset_file_path = \"/data/jdolli/glc23_data/Pot_10_to_1000.csv\"\n",
    "params.local.cp_dir_path = \"/scratch/jdolli/sent-sinr/checkpoints\"\n",
    "params.local.logs_dir_path = \"/scratch/jdolli/sent-sinr/wandb_logs\"\n",
    "params.local.val_data_path = \"/data/jdolli/glc23_data/Presence_Absence_surveys/loc_to_spec.csv\"\n",
    "\"\"\""
   ]
  },
  {
   "cell_type": "code",
   "execution_count": null,
   "id": "83d168bc-202a-4bca-b3ce-0f5189dc140a",
   "metadata": {},
   "outputs": [
    {
     "name": "stderr",
     "output_type": "stream",
     "text": [
      "Failed to detect the name of this notebook, you can set it manually with the WANDB_NOTEBOOK_NAME environment variable to enable code saving.\n",
      "\u001b[34m\u001b[1mwandb\u001b[0m: Currently logged in as: \u001b[33mjohannes-dollinger\u001b[0m (\u001b[33mecovision\u001b[0m). Use \u001b[1m`wandb login --relogin`\u001b[0m to force relogin\n"
     ]
    },
    {
     "data": {
      "text/html": [
       "wandb version 0.16.5 is available!  To upgrade, please run:\n",
       " $ pip install wandb --upgrade"
      ],
      "text/plain": [
       "<IPython.core.display.HTML object>"
      ]
     },
     "metadata": {},
     "output_type": "display_data"
    },
    {
     "data": {
      "text/html": [
       "Tracking run with wandb version 0.15.7"
      ],
      "text/plain": [
       "<IPython.core.display.HTML object>"
      ]
     },
     "metadata": {},
     "output_type": "display_data"
    },
    {
     "data": {
      "text/html": [
       "Run data is saved locally in <code>/scratch/jdolli/sent-sinr/wandb/run-20240327_073345-mffe4xdy</code>"
      ],
      "text/plain": [
       "<IPython.core.display.HTML object>"
      ]
     },
     "metadata": {},
     "output_type": "display_data"
    },
    {
     "data": {
      "text/html": [
       "Syncing run <strong><a href='https://wandb.ai/ecovision/sinr_on_glc23/runs/mffe4xdy' target=\"_blank\">sat_sinr_mf cnn_default Jupyter</a></strong> to <a href='https://wandb.ai/ecovision/sinr_on_glc23' target=\"_blank\">Weights & Biases</a> (<a href='https://wandb.me/run' target=\"_blank\">docs</a>)<br/>"
      ],
      "text/plain": [
       "<IPython.core.display.HTML object>"
      ]
     },
     "metadata": {},
     "output_type": "display_data"
    },
    {
     "data": {
      "text/html": [
       " View project at <a href='https://wandb.ai/ecovision/sinr_on_glc23' target=\"_blank\">https://wandb.ai/ecovision/sinr_on_glc23</a>"
      ],
      "text/plain": [
       "<IPython.core.display.HTML object>"
      ]
     },
     "metadata": {},
     "output_type": "display_data"
    },
    {
     "data": {
      "text/html": [
       " View run at <a href='https://wandb.ai/ecovision/sinr_on_glc23/runs/mffe4xdy' target=\"_blank\">https://wandb.ai/ecovision/sinr_on_glc23/runs/mffe4xdy</a>"
      ],
      "text/plain": [
       "<IPython.core.display.HTML object>"
      ]
     },
     "metadata": {},
     "output_type": "display_data"
    },
    {
     "name": "stderr",
     "output_type": "stream",
     "text": [
      "Using 16bit Automatic Mixed Precision (AMP)\n",
      "GPU available: True (cuda), used: True\n",
      "TPU available: False, using: 0 TPU cores\n",
      "IPU available: False, using: 0 IPUs\n",
      "HPU available: False, using: 0 HPUs\n",
      "LOCAL_RANK: 0 - CUDA_VISIBLE_DEVICES: [0]\n",
      "\n",
      "  | Name | Type    | Params\n",
      "---------------------------------\n",
      "0 | net  | SASI_MF | 10.7 M\n",
      "---------------------------------\n",
      "10.7 M    Trainable params\n",
      "0         Non-trainable params\n",
      "10.7 M    Total params\n",
      "42.997    Total estimated model params size (MB)\n",
      "SLURM auto-requeueing enabled. Setting signal handlers.\n"
     ]
    },
    {
     "data": {
      "application/vnd.jupyter.widget-view+json": {
       "model_id": "",
       "version_major": 2,
       "version_minor": 0
      },
      "text/plain": [
       "Sanity Checking: 0it [00:00, ?it/s]"
      ]
     },
     "metadata": {},
     "output_type": "display_data"
    },
    {
     "data": {
      "application/vnd.jupyter.widget-view+json": {
       "model_id": "e8c7a46ec84046dcac3a58d20aaa6e0b",
       "version_major": 2,
       "version_minor": 0
      },
      "text/plain": [
       "Training: 0it [00:00, ?it/s]"
      ]
     },
     "metadata": {},
     "output_type": "display_data"
    },
    {
     "name": "stderr",
     "output_type": "stream",
     "text": [
      "wandb: ERROR Dropped streaming file chunk (see wandb/debug-internal.log)\n",
      "wandb: ERROR Dropped streaming file chunk (see wandb/debug-internal.log)\n",
      "wandb: ERROR Dropped streaming file chunk (see wandb/debug-internal.log)\n",
      "wandb: ERROR Dropped streaming file chunk (see wandb/debug-internal.log)\n",
      "wandb: ERROR Dropped streaming file chunk (see wandb/debug-internal.log)\n"
     ]
    },
    {
     "data": {
      "application/vnd.jupyter.widget-view+json": {
       "model_id": "46b9d393c58b4a71bfbe60c892c1456f",
       "version_major": 2,
       "version_minor": 0
      },
      "text/plain": [
       "Validation: 0it [00:00, ?it/s]"
      ]
     },
     "metadata": {},
     "output_type": "display_data"
    },
    {
     "name": "stderr",
     "output_type": "stream",
     "text": [
      "wandb: ERROR Dropped streaming file chunk (see wandb/debug-internal.log)\n",
      "wandb: ERROR Dropped streaming file chunk (see wandb/debug-internal.log)\n",
      "wandb: ERROR Dropped streaming file chunk (see wandb/debug-internal.log)\n",
      "wandb: ERROR Dropped streaming file chunk (see wandb/debug-internal.log)\n",
      "wandb: ERROR Dropped streaming file chunk (see wandb/debug-internal.log)\n",
      "wandb: ERROR Dropped streaming file chunk (see wandb/debug-internal.log)\n",
      "wandb: ERROR Dropped streaming file chunk (see wandb/debug-internal.log)\n"
     ]
    }
   ],
   "source": [
    "main(params)"
   ]
  },
  {
   "cell_type": "code",
   "execution_count": null,
   "id": "8ad950b8-4632-4445-a184-3814fa0af5e4",
   "metadata": {},
   "outputs": [],
   "source": []
  },
  {
   "cell_type": "code",
   "execution_count": null,
   "id": "bc3a1c78-1a23-4801-8694-0a8bbb12ea10",
   "metadata": {},
   "outputs": [],
   "source": [
    "def load_cp(params, cp):\n",
    "    if params.model == \"sinr\" or params.model == \"log_reg\":\n",
    "        model = SINR.load_from_checkpoint(cp)\n",
    "    elif \"sat\" in params.model:\n",
    "        model = SAT_SINR.load_from_checkpoint(cp)"
   ]
  },
  {
   "cell_type": "code",
   "execution_count": null,
   "id": "730ddddd-1f3f-4b09-a999-c0a202612dc7",
   "metadata": {},
   "outputs": [],
   "source": []
  }
 ],
 "metadata": {
  "kernelspec": {
   "display_name": "glc23",
   "language": "python",
   "name": "glc23"
  },
  "language_info": {
   "codemirror_mode": {
    "name": "ipython",
    "version": 3
   },
   "file_extension": ".py",
   "mimetype": "text/x-python",
   "name": "python",
   "nbconvert_exporter": "python",
   "pygments_lexer": "ipython3",
   "version": "3.9.16"
  }
 },
 "nbformat": 4,
 "nbformat_minor": 5
}
