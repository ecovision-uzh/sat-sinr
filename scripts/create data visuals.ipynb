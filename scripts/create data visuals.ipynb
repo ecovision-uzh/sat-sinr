{
 "cells": [
  {
   "cell_type": "markdown",
   "id": "6be70676-5ba3-4533-ad46-81a21f3f59d5",
   "metadata": {},
   "source": [
    "### Visualizing the BIOS"
   ]
  },
  {
   "cell_type": "code",
   "execution_count": null,
   "id": "7c28597f-b638-4c4f-a784-b70a11ffd7d4",
   "metadata": {},
   "outputs": [],
   "source": [
    "import matplotlib.pyplot as plt\n",
    "import torch\n",
    "import numpy as np\n",
    "import os\n",
    "\n",
    "DATA_DIR = \"/data/jdolli/\"\n",
    "\n",
    "bioses = os.listdir(DATA_DIR + \"bioclim+elev\")\n",
    "\n",
    "for sid in range(20):\n",
    "    \n",
    "    #vmin = min(preds[:, sid].min(), 1 - preds[:, sid].max())\n",
    "    #vmax = max(preds[:, sid].max(), 1 - preds[:, sid].min())\n",
    "    \n",
    "    vmin = preds[:, sid].min()\n",
    "    vmax = preds[:, sid].max()\n",
    "\n",
    "    mask = np.load(os.path.join(DATA_DIR + \"glc23_data/sinr_data/data/masks\", 'ocean_mask_hr.npy'))\n",
    "    lon_res = mask.shape[1] / 360\n",
    "    lat_res = mask.shape[0] / 180\n",
    "    north = int((90-max_lat) * lat_res)\n",
    "    south = int((90-min_lat) * lat_res)\n",
    "    west = int((180 + min_lon) * lon_res)\n",
    "    east = int((180 + max_lon) * lon_res)\n",
    "    mask = mask[north:south, west:east]\n",
    "\n",
    "    fig, ax = plt.subplots(figsize=(6, 4))\n",
    "    ax.set_xlim([-10.53904, 34.55792])\n",
    "    ax.set_ylim([34.56858, 71.18392])\n",
    "    cmap = plt.cm.plasma\n",
    "    cmap.set_bad(color='none')\n",
    "    mask_inds = np.where(mask.reshape(-1) == 1)[0]\n",
    "    \n",
    "    im = preds[:, sid]\n",
    "    print(\"Bios:\", bioses[sid], im.min().item(), im.max().item())\n",
    "    im = torch.rot90(im.view(RES_LON, RES_LAT))\n",
    "    im = torch.reshape(im, (RES_LAT * RES_LON, 1))\n",
    "    im = im[mask_inds]\n",
    "    \n",
    "    op_im = np.ones(mask.shape[0] * mask.shape[1]) * np.nan\n",
    "    op_im[mask_inds] = im.detach().view(len(mask_inds)).numpy()\n",
    "    op_im = np.ma.masked_invalid(op_im)\n",
    "    op_im = op_im.reshape(RES_LAT, RES_LON)\n",
    "    \n",
    "    TRESHHOLD = 0\n",
    "    if TRESHHOLD > 0:\n",
    "        #op_im[op_im > TRESHHOLD] = 1\n",
    "        op_im[op_im <= TRESHHOLD] = 0\n",
    "    \n",
    "    im = ax.imshow(op_im, extent=(-10.53904, 34.55792, 34.56858, 71.18392), vmin=vmin, vmax=vmax, cmap=cmap)\n",
    "    \n",
    "    fig.colorbar(im, ax=ax)\n",
    "    \n",
    "    plt.show()\n",
    "    "
   ]
  },
  {
   "cell_type": "markdown",
   "id": "4eff0342-fb0c-4f4c-b243-69ff51a127e4",
   "metadata": {},
   "source": [
    "# Create distribution graphic"
   ]
  },
  {
   "cell_type": "code",
   "execution_count": null,
   "id": "7af97e58-667c-4cc5-ab2c-47febe16b790",
   "metadata": {},
   "outputs": [],
   "source": [
    "import pandas as pd\n",
    "import matplotlib.pyplot as plt\n",
    "from collections import Counter"
   ]
  },
  {
   "cell_type": "code",
   "execution_count": null,
   "id": "1da1adf4-3d03-4d49-a050-76f99917ef43",
   "metadata": {},
   "outputs": [],
   "source": [
    "DATA_DIR = \"/data/jdolli/\"\n",
    "#dataset_file = pd.read_csv(DATA_DIR + 'Presences_only_train.csv', sep=\";\", header='infer', low_memory=False)\n",
    "dataset_file = pd.read_csv(DATA_DIR + 'Pot_10_to_1000.csv', sep=\";\", header='infer', low_memory=False)"
   ]
  },
  {
   "cell_type": "code",
   "execution_count": null,
   "id": "2dc77140-84b6-4048-9ef8-42c971b3c1c1",
   "metadata": {},
   "outputs": [],
   "source": [
    "ids = dataset_file[\"speciesId\"].to_numpy()"
   ]
  },
  {
   "cell_type": "code",
   "execution_count": null,
   "id": "48d23400-5478-4dd4-ba8b-08fdeef0d998",
   "metadata": {},
   "outputs": [],
   "source": [
    "counter = Counter(ids)"
   ]
  },
  {
   "cell_type": "code",
   "execution_count": null,
   "id": "88ef5578-9c4b-431c-aa01-775dcff27595",
   "metadata": {},
   "outputs": [],
   "source": [
    "amounts = counter.values()\n",
    "amounts = list(amounts)\n",
    "amounts.sort(reverse=True)\n",
    "print(len(amounts))"
   ]
  },
  {
   "cell_type": "code",
   "execution_count": null,
   "id": "6ecd3034-312e-47f7-acc7-ccdfa5fcf43e",
   "metadata": {},
   "outputs": [],
   "source": [
    "fig = plt.figure(figsize = (10, 5))\n",
    "plt.bar([i for i in range(len(amounts))], amounts)"
   ]
  },
  {
   "cell_type": "code",
   "execution_count": null,
   "id": "d447c0d9-7c28-4bb2-a86d-6de3a4754a95",
   "metadata": {},
   "outputs": [],
   "source": [
    "fig.savefig(\"./class_distribution.png\")"
   ]
  }
 ],
 "metadata": {
  "kernelspec": {
   "display_name": "glc23",
   "language": "python",
   "name": "glc23"
  },
  "language_info": {
   "codemirror_mode": {
    "name": "ipython",
    "version": 3
   },
   "file_extension": ".py",
   "mimetype": "text/x-python",
   "name": "python",
   "nbconvert_exporter": "python",
   "pygments_lexer": "ipython3",
   "version": "3.9.16"
  }
 },
 "nbformat": 4,
 "nbformat_minor": 5
}
