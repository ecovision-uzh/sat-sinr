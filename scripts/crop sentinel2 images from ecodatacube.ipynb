{
 "cells": [
  {
   "cell_type": "markdown",
   "source": [
    "### !!! THIS FILE IS NOT FUNCTIONAL, BUT SHOWCASES THE PROCESS OF IMAGE CREATION FROM THE ECODATACUBE !!!"
   ],
   "metadata": {
    "collapsed": false
   }
  },
  {
   "cell_type": "code",
   "execution_count": null,
   "outputs": [],
   "source": [
    "import os\n",
    "import rioxarray\n",
    "import rasterio\n",
    "import numpy as np\n",
    "from tqdm import tqdm\n",
    "from pyproj import Transformer"
   ],
   "metadata": {
    "collapsed": false
   }
  },
  {
   "cell_type": "code",
   "execution_count": null,
   "outputs": [],
   "source": [
    "TIFF_DIR = \"sent2_files_2021/\"\n",
    "os.listdir(TIFF_DIR)\n",
    "\n",
    "color = \"rgb\"\n",
    "\n",
    "red = rioxarray.open_rasterio(\n",
    "    TIFF_DIR\n",
    "    + \"lcv_\"\n",
    "    + \"red\"\n",
    "    + \"_sentinel.s2l2a_p50_10m_0..0cm_2021.03.21..2021.12.01_eumap_epsg3035_v1.0.tif\"\n",
    ")\n",
    "red_rio = rasterio.open(\n",
    "    TIFF_DIR\n",
    "    + \"lcv_\"\n",
    "    + \"red\"\n",
    "    + \"_sentinel.s2l2a_p50_10m_0..0cm_2021.03.21..2021.12.01_eumap_epsg3035_v1.0.tif\"\n",
    ")\n",
    "blue = rioxarray.open_rasterio(\n",
    "    TIFF_DIR\n",
    "    + \"lcv_\"\n",
    "    + \"blue\"\n",
    "    + \"_sentinel.s2l2a_p50_10m_0..0cm_2021.03.21..2021.12.01_eumap_epsg3035_v1.0.tif\"\n",
    ")\n",
    "green = rioxarray.open_rasterio(\n",
    "    TIFF_DIR\n",
    "    + \"lcv_\"\n",
    "    + \"green\"\n",
    "    + \"_sentinel.s2l2a_p50_10m_0..0cm_2021.03.21..2021.12.01_eumap_epsg3035_v1.0.tif\"\n",
    ")\n",
    "# nir = rioxarray.open_rasterio(TIFF_DIR + 'lcv_' + \"nir\" + '_sentinel.s2l2a_p50_10m_0..0cm_2021.03.21..2021.12.01_eumap_epsg3035_v1.0.tif')\n",
    "\n",
    "tf = Transformer.from_crs(\"epsg:4326\", \"epsg:3035\")\n",
    "CLIP = 10000\n",
    "\n",
    "\n",
    "def get_image_pixels_raster(lon, lat, dir_path=\"\"):\n",
    "\n",
    "    y, x = tf.transform(lat, lon)\n",
    "    south, east = red_rio.index(x, y)\n",
    "    hs = 64\n",
    "    r = red[0, east - hs : east + hs, south - hs : south + hs]\n",
    "    g = green[0, east - hs : east + hs, south - hs : south + hs]\n",
    "    b = blue[0, east - hs : east + hs, south - hs : south + hs]\n",
    "    try:\n",
    "        img = np.stack([r, g, b], axis=-1)\n",
    "        img[img > CLIP] = CLIP\n",
    "        img = (img - img.min(axis=0).min(axis=0)) / (\n",
    "            img.max(axis=0).max(axis=0) - img.min(axis=0).min(axis=0)\n",
    "        )\n",
    "        np.power(img, 1 / 2.5)\n",
    "        img = (img * 255).astype(np.uint8)\n",
    "    except:\n",
    "        pass\n",
    "\n",
    "    # Save image\n",
    "\n",
    "\n",
    "RES_LON = 502\n",
    "RES_LAT = 408\n",
    "max_lon = 34.55792\n",
    "min_lon = -10.53904\n",
    "max_lat = 71.18392\n",
    "min_lat = 34.56858\n",
    "\n",
    "for i in tqdm(range(RES_LON)):\n",
    "    # i is lon\n",
    "    # j is lat\n",
    "    for j in range(RES_LAT):\n",
    "        lon = i / RES_LON\n",
    "        lat = j / RES_LAT\n",
    "        lon = lon * (max_lon - min_lon) + min_lon\n",
    "        lat = lat * (max_lat - min_lat) + min_lat\n",
    "\n",
    "        # get_image_pixels_raster(lon, lat)"
   ],
   "metadata": {
    "collapsed": false
   }
  }
 ],
 "metadata": {
  "kernelspec": {
   "display_name": "Python 3",
   "language": "python",
   "name": "python3"
  },
  "language_info": {
   "codemirror_mode": {
    "name": "ipython",
    "version": 2
   },
   "file_extension": ".py",
   "mimetype": "text/x-python",
   "name": "python",
   "nbconvert_exporter": "python",
   "pygments_lexer": "ipython2",
   "version": "2.7.6"
  }
 },
 "nbformat": 4,
 "nbformat_minor": 0
}
