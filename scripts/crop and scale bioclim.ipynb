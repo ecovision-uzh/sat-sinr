{
 "cells": [
  {
   "cell_type": "code",
   "execution_count": null,
   "metadata": {
    "collapsed": true,
    "ExecuteTime": {
     "start_time": "2024-05-28T12:39:05.996048Z",
     "end_time": "2024-05-28T12:39:06.044610Z"
    }
   },
   "outputs": [],
   "source": [
    "import numpy as np\n",
    "import os\n",
    "import rasterio"
   ]
  },
  {
   "cell_type": "code",
   "execution_count": null,
   "outputs": [],
   "source": [
    "# Put all 19 files in this folder along with the elevation-tif\n",
    "# Important to also use the 1km elevation file to match the bio-files resolution\n",
    "DATA_PATH = \"glc23_data/bioclim+elev\"\n",
    "raster_files = os.listdir(DATA_PATH)\n",
    "print(raster_files)"
   ],
   "metadata": {
    "collapsed": false,
    "ExecuteTime": {
     "start_time": "2024-05-28T12:42:38.286107Z",
     "end_time": "2024-05-28T12:42:38.328338Z"
    }
   }
  },
  {
   "cell_type": "code",
   "execution_count": null,
   "outputs": [],
   "source": [
    "rasters = []\n",
    "for raster in raster_files:\n",
    "    file = rasterio.open(DATA_PATH + raster)\n",
    "    rasters.append(file.read(1))\n",
    "rasters = np.stack(rasters, axis=-1)\n",
    "print(rasters.shape)"
   ],
   "metadata": {
    "collapsed": false,
    "ExecuteTime": {
     "start_time": "2024-05-28T12:43:38.170598Z",
     "end_time": "2024-05-28T12:43:41.171427Z"
    }
   }
  },
  {
   "cell_type": "code",
   "execution_count": null,
   "outputs": [],
   "source": [
    "means = np.nanmean(rasters, axis=(0, 1), dtype=np.float64)\n",
    "stds = np.nanstd(rasters, axis=(0, 1), dtype=np.float64)\n",
    "rasters = (rasters - means) / stds"
   ],
   "metadata": {
    "collapsed": false,
    "ExecuteTime": {
     "start_time": "2024-05-28T12:43:47.433843Z",
     "end_time": "2024-05-28T12:43:52.154686Z"
    }
   }
  },
  {
   "cell_type": "code",
   "execution_count": null,
   "outputs": [],
   "source": [
    "# These bounds are lon -11 to 35, and lat 34 to 72\n",
    "rasters = rasters[2159:6719, 20279:25799]\n",
    "np.save(DATA_PATH + \"/bioclim_elevation_scaled_europe.npy\", rasters)"
   ],
   "metadata": {
    "collapsed": false,
    "ExecuteTime": {
     "start_time": "2024-05-28T12:43:58.082297Z",
     "end_time": "2024-05-28T12:43:58.084246Z"
    }
   }
  },
  {
   "cell_type": "code",
   "execution_count": null,
   "outputs": [],
   "source": [],
   "metadata": {
    "collapsed": false
   }
  }
 ],
 "metadata": {
  "kernelspec": {
   "display_name": "Python 3",
   "language": "python",
   "name": "python3"
  },
  "language_info": {
   "codemirror_mode": {
    "name": "ipython",
    "version": 2
   },
   "file_extension": ".py",
   "mimetype": "text/x-python",
   "name": "python",
   "nbconvert_exporter": "python",
   "pygments_lexer": "ipython2",
   "version": "2.7.6"
  }
 },
 "nbformat": 4,
 "nbformat_minor": 0
}
